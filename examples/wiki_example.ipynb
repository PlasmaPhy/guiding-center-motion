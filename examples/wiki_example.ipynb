{
 "cells": [
  {
   "cell_type": "code",
   "execution_count": null,
   "metadata": {},
   "outputs": [],
   "source": [
    "import gcmotion as gcm\n",
    "import numpy as np\n",
    "import matplotlib.pyplot as plt\n",
    "\n",
    "plt.rcParams[\"figure.dpi\"] = 300"
   ]
  },
  {
   "cell_type": "markdown",
   "metadata": {},
   "source": [
    "### Part 1: Particle Initialization and obrit calculation"
   ]
  },
  {
   "cell_type": "markdown",
   "metadata": {},
   "source": [
    "In this cell we can create multiple particles independently. By setting cwp (current working particle), we chose the particle to proceed. That way we can keep all previous particles in memory and switch cwp at any point.\n",
    "\n",
    "First we set up the Tokamak configuration, and the particle's initial conditions"
   ]
  },
  {
   "cell_type": "code",
   "execution_count": null,
   "metadata": {},
   "outputs": [],
   "source": [
    "R, a = 6.2, 2  # Major/Minor Radius in [m]\n",
    "q = gcm.qfactor.Hypergeometric(R, a)\n",
    "Bfield = gcm.bfield.LAR(i=0, g=1, B0=5)\n",
    "Efield = gcm.efield.Radial(R, a, q, Ea=75000, minimum=0.9, waist_width=50)\n",
    "\n",
    "species = \"p\"\n",
    "mu = 10e-5\n",
    "theta0 = np.pi / 3\n",
    "psi0 = 0.5  # times psi_wall\n",
    "z0 = np.pi\n",
    "Pz0 = -0.025\n",
    "t_eval = np.linspace(0, 100000, 10000)  # t0, tf, steps\n",
    "\n",
    "init_cond = [theta0, psi0, z0, Pz0]\n",
    "particle1 = gcm.Particle(species, mu, init_cond, t_eval, R, a, q, Bfield, Efield)\n",
    "cwp = particle1\n",
    "\n",
    "cwp.run()"
   ]
  },
  {
   "cell_type": "markdown",
   "metadata": {},
   "source": [
    "### Part 2: Plots"
   ]
  },
  {
   "cell_type": "code",
   "execution_count": null,
   "metadata": {},
   "outputs": [],
   "source": [
    "gcm.time_evolution(cwp, percentage=100)"
   ]
  },
  {
   "cell_type": "code",
   "execution_count": null,
   "metadata": {},
   "outputs": [],
   "source": [
    "gcm.tokamak_profile(cwp)"
   ]
  },
  {
   "cell_type": "code",
   "execution_count": null,
   "metadata": {},
   "outputs": [],
   "source": [
    "gcm.drift(cwp)"
   ]
  },
  {
   "cell_type": "code",
   "execution_count": null,
   "metadata": {},
   "outputs": [],
   "source": [
    "gcm.drifts(cwp)"
   ]
  },
  {
   "cell_type": "markdown",
   "metadata": {},
   "source": [
    "### Energy Contour Plots"
   ]
  },
  {
   "cell_type": "code",
   "execution_count": null,
   "metadata": {},
   "outputs": [],
   "source": [
    "gcm.contour_energy(\n",
    "    cwp, theta_lim = [-np.pi ,np.pi], psi_lim = \"auto\", \n",
    "    plot_drift=True, contour_Phi = True, units = \"keV\", levels = 20\n",
    ")"
   ]
  },
  {
   "cell_type": "markdown",
   "metadata": {},
   "source": [
    "## Orbit types parabolas"
   ]
  },
  {
   "cell_type": "markdown",
   "metadata": {},
   "source": [
    "As for figuring out if the particle is <ins>L</ins>ost or <ins>C</ins>onfined, we need only to check if its orbit point lies in-between the 2 left parabolas."
   ]
  },
  {
   "cell_type": "code",
   "execution_count": null,
   "metadata": {},
   "outputs": [],
   "source": [
    "gcm.parabolas(cwp)"
   ]
  },
  {
   "cell_type": "markdown",
   "metadata": {},
   "source": [
    "## Torus Poincare map and 3d Torus orbits"
   ]
  },
  {
   "cell_type": "code",
   "execution_count": null,
   "metadata": {},
   "outputs": [],
   "source": [
    "gcm.torus2d(cwp)"
   ]
  },
  {
   "cell_type": "code",
   "execution_count": null,
   "metadata": {},
   "outputs": [],
   "source": [
    "gcm.torus3d(cwp)"
   ]
  }
 ],
 "metadata": {
  "kernelspec": {
   "display_name": "Python 3",
   "language": "python",
   "name": "python3"
  },
  "language_info": {
   "codemirror_mode": {
    "name": "ipython",
    "version": 3
   },
   "file_extension": ".py",
   "mimetype": "text/x-python",
   "name": "python",
   "nbconvert_exporter": "python",
   "pygments_lexer": "ipython3",
   "version": "3.12.7"
  }
 },
 "nbformat": 4,
 "nbformat_minor": 2
}
