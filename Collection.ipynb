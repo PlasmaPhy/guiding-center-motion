{
 "cells": [
  {
   "cell_type": "code",
   "execution_count": 310,
   "metadata": {},
   "outputs": [],
   "source": [
    "import numpy as np\n",
    "import matplotlib.pyplot as plt\n",
    "import gcmotion as gcm\n",
    "import parameters \n",
    "import importlib\n",
    "\n",
    "# for debugging, can be removed\n",
    "importlib.reload(parameters)\n",
    "gcm.utils.reload()\n",
    "\n",
    "plt.style.use(\"ggplot\")\n",
    "plt.rcParams[\"figure.dpi\"] = 250"
   ]
  },
  {
   "cell_type": "markdown",
   "metadata": {},
   "source": [
    "Create a *collection* of particles and calculate all their orbits"
   ]
  },
  {
   "cell_type": "code",
   "execution_count": null,
   "metadata": {},
   "outputs": [],
   "source": [
    "collection = gcm.Collection(parameters)\n",
    "collection.run_all(orbit=True)"
   ]
  },
  {
   "cell_type": "markdown",
   "metadata": {},
   "source": [
    "### Contour plot and particle drifts"
   ]
  },
  {
   "cell_type": "markdown",
   "metadata": {},
   "source": [
    "The particles **must** have the same R, a, qfactor, efield, bfield, mu, Pz0 and be the same species."
   ]
  },
  {
   "cell_type": "code",
   "execution_count": 312,
   "metadata": {},
   "outputs": [],
   "source": [
    "# contour_params = {\"different_colors\": False, \"plot_initial\": True}\n",
    "\n",
    "# collection.plot.contour_energy(\n",
    "#     theta_lim = [-np.pi ,np.pi], psi_lim = \"auto\", \n",
    "#     plot_drift=True, contour_Phi = True, units = \"keV\", levels = 20,\n",
    "#     **contour_params\n",
    "# )"
   ]
  },
  {
   "cell_type": "code",
   "execution_count": 313,
   "metadata": {},
   "outputs": [],
   "source": [
    "# poincare_params = {\"different_colors\": False, \"plot_initial\": True}\n",
    "\n",
    "# collection.plot.poincare(angle=\"zeta\",lim=[-np.pi, np.pi], **poincare_params)"
   ]
  },
  {
   "cell_type": "markdown",
   "metadata": {},
   "source": [
    "### Obrit type Parabolas"
   ]
  },
  {
   "cell_type": "markdown",
   "metadata": {},
   "source": [
    "The particles **must** have the same R, a, qfactor, **efield = 0**, bfield, mu, and be the same species."
   ]
  },
  {
   "cell_type": "code",
   "execution_count": 314,
   "metadata": {},
   "outputs": [],
   "source": [
    "# collection.plot.parabolas(different_colors=False, labels = False)"
   ]
  },
  {
   "cell_type": "code",
   "execution_count": null,
   "metadata": {},
   "outputs": [],
   "source": [
    "collection.freq_analysis_all()"
   ]
  },
  {
   "cell_type": "code",
   "execution_count": null,
   "metadata": {},
   "outputs": [],
   "source": [
    "collection.plot.omega_thetas(zoom_out=True)"
   ]
  }
 ],
 "metadata": {
  "kernelspec": {
   "display_name": "Python 3",
   "language": "python",
   "name": "python3"
  },
  "language_info": {
   "codemirror_mode": {
    "name": "ipython",
    "version": 3
   },
   "file_extension": ".py",
   "mimetype": "text/x-python",
   "name": "python",
   "nbconvert_exporter": "python",
   "pygments_lexer": "ipython3",
   "version": "3.12.7"
  }
 },
 "nbformat": 4,
 "nbformat_minor": 2
}
