{
 "cells": [
  {
   "cell_type": "code",
   "execution_count": 138,
   "metadata": {},
   "outputs": [],
   "source": [
    "import numpy as np\n",
    "import matplotlib.pyplot as plt\n",
    "import gcmotion as gcm\n",
    "\n",
    "# for debugging, can be removed\n",
    "gcm.utils.reload()\n",
    "\n",
    "plt.style.use(\"ggplot\")\n",
    "plt.rcParams[\"figure.dpi\"] = 150"
   ]
  },
  {
   "cell_type": "markdown",
   "metadata": {},
   "source": [
    "### Variables and Equations"
   ]
  },
  {
   "cell_type": "markdown",
   "metadata": {},
   "source": [
    "The purpose of this tool is to calculate the orbit of different particles in a toroidal magnetic field $\\vec B$ with large aspect ratio (LAR) and constant $g,I$. The orbits are calculated by solving Hamiltons equations as presented in \"The theory of toroidally confined plasmas\" by R. B. White,with a 4th order Runge-Kutta method"
   ]
  },
  {
   "cell_type": "markdown",
   "metadata": {},
   "source": [
    "Our dynamical variables are  $\\theta, P_\\theta, \\zeta, P_\\zeta$ and $ \\rho_{||}$, and they are governed through Hamilton's equations:"
   ]
  },
  {
   "cell_type": "markdown",
   "metadata": {},
   "source": [
    "$$\n",
    "\\dot \\theta = \\dfrac{1}{D}\\rho_{||}B^2 +\\dfrac{g}{D}\\bigg[ -(\\mu+\\rho^2_{||}B)\\bigg(\\dfrac{q}{\\sqrt{2\\psi}}\\cos(\\theta)\\bigg)  + \\dfrac{\\partial \\Phi}{\\partial \\psi_p}\\bigg]\n",
    "$$\n",
    "\n",
    "$$\n",
    "\\dot \\psi_p = \\dfrac{\\dot\\psi}{q(\\psi)} = -\\dfrac{g}{D}\\bigg[(\\mu + \\rho_{||}^2B)\\sqrt{2\\psi}\\sin(\\theta) + \\dfrac{\\partial \\Phi}{\\partial \\theta}\\bigg]\n",
    "$$\n",
    "\n",
    "$$\n",
    "\\dot \\rho_{||} = -\\dfrac{1}{D}\\bigg[(\\mu + \\rho_{||}^2B)\\sqrt{2\\psi}\\sin(\\theta) + \\dfrac{\\partial \\Phi}{\\partial \\theta} \\bigg]\n",
    "$$\n",
    "\n",
    "$$\n",
    "\\dot \\zeta = \\dfrac{\\rho_{||}B^2}{D} - \\dfrac{I}{D}\\bigg[ -(\\mu+\\rho^2_{||}B)\\bigg(\\dfrac{q}{\\sqrt{2\\psi}}\\cos(\\theta)\\bigg)  + \\dfrac{\\partial \\Phi}{\\partial \\psi_p}\\bigg]\n",
    "$$\n",
    "\n",
    "where:  $\\quad B = 1 - \\sqrt{2\\psi}\\cos(\\theta)$"
   ]
  },
  {
   "cell_type": "markdown",
   "metadata": {},
   "source": [
    "We can then calculate the canonical momenta as $P_\\theta = \\psi + \\rho_{||}I$ and $P_\\zeta = \\rho_{||} g -\\psi_p$"
   ]
  },
  {
   "cell_type": "markdown",
   "metadata": {},
   "source": [
    "### Part 1: Particle Initialization and obrit calculation"
   ]
  },
  {
   "cell_type": "markdown",
   "metadata": {},
   "source": [
    "In this cell we can create multiple particles independently. By setting cwp (current working particle), we chose the particle to proceed. That way we can keep all previous particles in memory and switch cwp at any point.\n",
    "\n",
    "First we set up the Tokamak configuration, and the particle's initial conditions"
   ]
  },
  {
   "cell_type": "code",
   "execution_count": null,
   "metadata": {},
   "outputs": [],
   "source": [
    "R, a    = 6.2, 2 # Major/Minor Radius in [m]\n",
    "q       = gcm.qfactor.Hypergeometric(R, a)\n",
    "Bfield  = gcm.bfield.LAR(i = 0, g = 1, B0 = 5)\n",
    "Efield  = gcm.efield.Radial(R, a, q, Ea = 0, minimum = 0.98, waist_width=50)\n",
    "\n",
    "# Create Particle\n",
    "species = \"p\"\n",
    "mu = 10e-5 # Magnetic moment\n",
    "theta0 = np.pi/3\n",
    "psi0 = 0.4513# times psi_wall\n",
    "z0 = np.pi\n",
    "Pz0 = -0.03\n",
    "tspan = np.linspace(0, 100000, 50000) # t0, tf, steps\n",
    "\n",
    "init_cond = [theta0, psi0, z0, Pz0]\n",
    "\n",
    "#Particle Creation\n",
    "Electron1 = gcm.Particle(species, mu, init_cond, tspan, R, a, q, Bfield, Efield)\n",
    "cwp = Electron1\n",
    "cwp.run()"
   ]
  },
  {
   "cell_type": "markdown",
   "metadata": {},
   "source": [
    "### Part 2: Plots"
   ]
  },
  {
   "cell_type": "code",
   "execution_count": 140,
   "metadata": {},
   "outputs": [],
   "source": [
    "#cwp.plot.tokamak_profile(zoom = [0.2, 1.1])"
   ]
  },
  {
   "cell_type": "code",
   "execution_count": null,
   "metadata": {},
   "outputs": [],
   "source": [
    "cwp.plot.time_evolution(percentage =100)"
   ]
  },
  {
   "cell_type": "markdown",
   "metadata": {},
   "source": [
    "### Energy Contour Plots"
   ]
  },
  {
   "cell_type": "code",
   "execution_count": null,
   "metadata": {},
   "outputs": [],
   "source": [
    "cwp.plot.contour_energy(\n",
    "    theta_lim = [-np.pi ,np.pi], psi_lim = \"auto\", \n",
    "    plot_drift=True, contour_Phi = True, units = \"keV\", levels = 20\n",
    ");"
   ]
  },
  {
   "cell_type": "markdown",
   "metadata": {},
   "source": [
    "## Orbit types parabolas"
   ]
  },
  {
   "cell_type": "markdown",
   "metadata": {},
   "source": [
    "### Parabolas Derivation"
   ]
  },
  {
   "cell_type": "markdown",
   "metadata": {},
   "source": [
    "The two left parabolas are defined in White as:\n",
    "\n",
    "$$\n",
    "\\dfrac{(P_\\zeta + \\psi_{wall})^2B^2_{min}}{2g^2(\\psi_{wall})}+\\mu B_{min}+\\Phi_{wall}-E=0\n",
    "$$\n",
    "\n",
    "We can re-order the terms as such:\n",
    "\n",
    "$$\n",
    "\\bigg(\\dfrac{\\mu B_0}{E} \\bigg) = - \\dfrac{B_{min}B_0\\psi^2_{wall}}{2g^2E}\n",
    "\\bigg(\\dfrac{P_\\zeta}{\\psi_{wall}}\\bigg)^2 - \n",
    "\\dfrac{B_{min}B_0\\psi^2_{wall}}{g^2E}\\bigg(\\dfrac{P_\\zeta}{\\psi_{wall}}\\bigg)-\n",
    "\\dfrac{B_{min}B_0\\psi^2_{wall}}{2g^2E} + \\dfrac{B_0}{B_{min}}\n",
    "\\bigg(1-\\dfrac{\\Phi_{wall}}{E}\\bigg) \n",
    "$$\n",
    "\n",
    "where $E = \\mu B_{min}+\\Phi_{wall}$\n",
    "\n",
    "***\n",
    "\n",
    "Similarly, for the right parabola, we have:\n",
    "\n",
    "$$\n",
    "\\bigg(\\dfrac{\\mu B_0}{E} \\bigg) = - \\dfrac{B_0^2\\psi^2_{wall}}{2g^2E}\\bigg(\\dfrac{P_\\zeta}{\\psi_{wall}}\\bigg)^2 + 1 - \\dfrac{\\Phi_0}{E}\n",
    "$$\n",
    "\n",
    "where $E = \\mu B_{0}+\\Phi_{0}$\n",
    "\n",
    "***\n",
    "\n",
    "As for the Trapped-Passing Boundary:\n",
    "\n",
    "$$\n",
    "\\bigg(\\dfrac{\\mu B_0}{E} \\bigg) = \\dfrac{1}{1\\pm\\sqrt{-2\\psi_{wall}\\bigg(\\dfrac{P_\\zeta}{\\psi_{wall}}\\bigg)}}\\bigg(1 - \\dfrac{\\Phi_0}{E}\\bigg)\n",
    "$$\n",
    "\n",
    "***\n",
    "\n",
    "By defining the new variables:\n",
    "\n",
    "$$\n",
    "x=\\bigg(\\dfrac{P_\\zeta}{\\psi_{wall}}\\bigg)\\quad,\\quad y = \\bigg(\\dfrac{\\mu B_0}{E} \\bigg)\n",
    "$$\n",
    "\n",
    "we define a parabola $y = \\alpha x^2 + \\beta x + \\gamma$. Now we can easily find the minima/maxima and axis intercepts.\n",
    "\n",
    "Note: Since $B = 1 - \\sqrt{2\\psi}\\cos\\theta \\quad$,   $\\psi_{wall}$ should be less that 0.5"
   ]
  },
  {
   "cell_type": "markdown",
   "metadata": {},
   "source": [
    "As for figuring out if the particle is Lost or Confined, we need only to check if its orbit point lies in-between the 2 left parabolas."
   ]
  },
  {
   "cell_type": "markdown",
   "metadata": {},
   "source": [
    "### Parabolas Diagram"
   ]
  },
  {
   "cell_type": "code",
   "execution_count": 143,
   "metadata": {},
   "outputs": [],
   "source": [
    "# cwp.plot.parabolas()\n",
    "# cwp.plot.orbit_point()"
   ]
  },
  {
   "cell_type": "markdown",
   "metadata": {},
   "source": [
    "## Torus Poincare map and 3d Torus orbits"
   ]
  },
  {
   "cell_type": "code",
   "execution_count": 144,
   "metadata": {},
   "outputs": [],
   "source": [
    "# cwp.plot.torus2d(percentage = 100, truescale=True)"
   ]
  },
  {
   "cell_type": "code",
   "execution_count": 145,
   "metadata": {},
   "outputs": [],
   "source": [
    "# cwp.plot.torus3d(percentage=100, truescale=True, \n",
    "#                 white_background=True, hd=False,)"
   ]
  },
  {
   "cell_type": "code",
   "execution_count": 146,
   "metadata": {},
   "outputs": [],
   "source": [
    "# params = {\"percentage\": 100, \"truescale\": True,\n",
    "#           \"min_step\": 0.01, \"seconds\": 300}\n",
    "# gcm.animate(cwp, params)"
   ]
  },
  {
   "cell_type": "markdown",
   "metadata": {},
   "source": [
    "## FFT"
   ]
  },
  {
   "cell_type": "code",
   "execution_count": null,
   "metadata": {},
   "outputs": [],
   "source": [
    "cwp.freq_analysis(angle = \"theta\", trim = True, normal = False, remove_bias=False)\n",
    "cwp.plot.fft()"
   ]
  },
  {
   "cell_type": "code",
   "execution_count": null,
   "metadata": {},
   "outputs": [],
   "source": [
    "cwp.freq_analysis(angle = \"zeta\", trim = True, normal = False, remove_bias = True)\n",
    "cwp.plot.fft()"
   ]
  },
  {
   "cell_type": "code",
   "execution_count": null,
   "metadata": {},
   "outputs": [],
   "source": [
    "cwp.q_kinetic()"
   ]
  }
 ],
 "metadata": {
  "kernelspec": {
   "display_name": ".venv",
   "language": "python",
   "name": "python3"
  },
  "language_info": {
   "codemirror_mode": {
    "name": "ipython",
    "version": 3
   },
   "file_extension": ".py",
   "mimetype": "text/x-python",
   "name": "python",
   "nbconvert_exporter": "python",
   "pygments_lexer": "ipython3",
   "version": "3.12.6"
  }
 },
 "nbformat": 4,
 "nbformat_minor": 2
}
