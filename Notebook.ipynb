{
 "cells": [
  {
   "cell_type": "code",
   "execution_count": 13,
   "metadata": {},
   "outputs": [],
   "source": [
    "import numpy as np\n",
    "import matplotlib.pyplot as plt\n",
    "import gcmotion as gcm\n",
    "\n",
    "gcm.utils.reload()\n",
    "\n",
    "plt.style.use(\"ggplot\")\n",
    "plt.rcParams[\"figure.dpi\"] = 150\n",
    "\n",
    "%matplotlib inline"
   ]
  },
  {
   "cell_type": "markdown",
   "metadata": {},
   "source": [
    "### Part 1: Particle Initialization and obrit calculation"
   ]
  },
  {
   "cell_type": "markdown",
   "metadata": {},
   "source": [
    "In this cell we can create multiple particles independently. By setting cwp (current working particle), we chose the particle to proceed. That way we can keep all previous particles in memory and switch cwp at any point.\n",
    "\n",
    "First we set up the Tokamak configuration, and the particle's initial conditions"
   ]
  },
  {
   "cell_type": "code",
   "execution_count": null,
   "metadata": {},
   "outputs": [],
   "source": [
    "R, a   = 6.2, 2  # Major/Minor Radius in [m]\n",
    "q      = gcm.qfactor.Hypergeometric(R, a)\n",
    "Bfield = gcm.bfield.LAR(i=0, g=1, B0=5)\n",
    "Efield = None#gcm.efield.Radial(R, a, q, Ea=75000, minimum=0.9, waist_width=50)\n",
    "\n",
    "# Create Particle\n",
    "species = \"p\"\n",
    "mu      = 10e-5  # Magnetic moment\n",
    "theta0  = np.pi / 3\n",
    "psi0    = 0.5 #0.39  # 0.4513# times psi_wall\n",
    "z0      = np.pi\n",
    "Pz0     = -0.025\n",
    "tspan   = np.linspace(0, 100000, 10000)  # t0, tf, steps\n",
    "\n",
    "init_cond = [theta0, psi0, z0, Pz0]\n",
    "\n",
    "# Particle Creation\n",
    "Electron1 = gcm.Particle(species, mu, init_cond, tspan, R, a, q, Bfield, Efield)\n",
    "cwp = Electron1\n",
    "\n",
    "events = [] #[cwp.events(\"single_theta_period\"), cwp.events(\"single_theta_period\")]\n",
    "cwp.run(events=events)\n",
    "\n",
    "animate = False"
   ]
  },
  {
   "cell_type": "markdown",
   "metadata": {},
   "source": [
    "### Part 2: Plots"
   ]
  },
  {
   "cell_type": "code",
   "execution_count": 15,
   "metadata": {},
   "outputs": [],
   "source": [
    "# cwp.plot.tokamak_profile(zoom = [0.2, 1.1])"
   ]
  },
  {
   "cell_type": "code",
   "execution_count": null,
   "metadata": {},
   "outputs": [],
   "source": [
    "cwp.plot.time_evolution(percentage =100)"
   ]
  },
  {
   "cell_type": "markdown",
   "metadata": {},
   "source": [
    "### Energy Contour Plots"
   ]
  },
  {
   "cell_type": "code",
   "execution_count": 17,
   "metadata": {},
   "outputs": [],
   "source": [
    "# cwp.plot.contour_energy(\n",
    "#     theta_lim = [-np.pi ,np.pi], psi_lim = \"auto\", \n",
    "#     plot_drift=True, contour_Phi = True, units = \"keV\", levels = 20\n",
    "# )"
   ]
  },
  {
   "cell_type": "markdown",
   "metadata": {},
   "source": [
    "## Orbit types parabolas"
   ]
  },
  {
   "cell_type": "markdown",
   "metadata": {},
   "source": [
    "As for figuring out if the particle is <ins>L</ins>ost or <ins>C</ins>onfined, we need only to check if its orbit point lies in-between the 2 left parabolas."
   ]
  },
  {
   "cell_type": "code",
   "execution_count": 18,
   "metadata": {},
   "outputs": [],
   "source": [
    "# cwp.plot.parabolas()\n",
    "# cwp.plot.orbit_point()"
   ]
  },
  {
   "cell_type": "markdown",
   "metadata": {},
   "source": [
    "## Torus Poincare map and 3d Torus orbits"
   ]
  },
  {
   "cell_type": "code",
   "execution_count": null,
   "metadata": {},
   "outputs": [],
   "source": [
    "cwp.plot.torus2d(percentage = 200, truescale=True)"
   ]
  },
  {
   "cell_type": "code",
   "execution_count": 20,
   "metadata": {},
   "outputs": [],
   "source": [
    "# cwp.plot.torus3d(percentage=1000, truescale=True, \n",
    "#                 white_background=True, hd=False,)"
   ]
  },
  {
   "cell_type": "code",
   "execution_count": 21,
   "metadata": {},
   "outputs": [],
   "source": [
    "if animate:\n",
    "    params = {\"percentage\": 100, \"truescale\": True, \"min_step\": 0.01, \"seconds\": 300}\n",
    "    gcm.animate(cwp, params)"
   ]
  },
  {
   "cell_type": "markdown",
   "metadata": {},
   "source": [
    "## FFT"
   ]
  },
  {
   "cell_type": "code",
   "execution_count": null,
   "metadata": {},
   "outputs": [],
   "source": [
    "%matplotlib inline \n",
    "# replace \"inline\" with \"qt\" for interactive\n",
    "\n",
    "trim_params={\"periods\":100, \"steps_per_period\":20}\n",
    "cwp.freq_analysis(angle=\"theta\", trim_params=trim_params)"
   ]
  },
  {
   "cell_type": "code",
   "execution_count": null,
   "metadata": {},
   "outputs": [],
   "source": [
    "%matplotlib qt\n",
    "# replace \"inline\" with \"qt\" for interactive\n",
    "\n",
    "trim_params={\"periods\":1000, \"steps_per_period\":20}\n",
    "cwp.freq_analysis(angle=\"zeta\", trim_params={})\n",
    "\n",
    "#plt.xlim((-4e6, 4e6))"
   ]
  },
  {
   "cell_type": "code",
   "execution_count": null,
   "metadata": {},
   "outputs": [],
   "source": [
    "%matplotlib inline"
   ]
  }
 ],
 "metadata": {
  "kernelspec": {
   "display_name": ".venv",
   "language": "python",
   "name": "python3"
  },
  "language_info": {
   "codemirror_mode": {
    "name": "ipython",
    "version": 3
   },
   "file_extension": ".py",
   "mimetype": "text/x-python",
   "name": "python",
   "nbconvert_exporter": "python",
   "pygments_lexer": "ipython3",
   "version": "3.12.7"
  }
 },
 "nbformat": 4,
 "nbformat_minor": 2
}
